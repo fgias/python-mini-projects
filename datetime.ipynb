{
 "cells": [
  {
   "cell_type": "markdown",
   "metadata": {},
   "source": [
    "# The datetime module"
   ]
  },
  {
   "cell_type": "code",
   "execution_count": 2,
   "metadata": {},
   "outputs": [
    {
     "name": "stdout",
     "output_type": "stream",
     "text": [
      "Today's date is:  2022-02-28\n"
     ]
    }
   ],
   "source": [
    "from datetime import date\n",
    "from datetime import time\n",
    "from datetime import datetime\n",
    "\n",
    "today = date.today()\n",
    "print(\"Today's date is: \", today)\n"
   ]
  },
  {
   "cell_type": "code",
   "execution_count": 3,
   "metadata": {},
   "outputs": [
    {
     "name": "stdout",
     "output_type": "stream",
     "text": [
      "Today's components:  2022 2 28\n"
     ]
    }
   ],
   "source": [
    "today = date.today()\n",
    "print(\"Today's components: \", today.year, today.month, today.day)"
   ]
  },
  {
   "cell_type": "code",
   "execution_count": 4,
   "metadata": {},
   "outputs": [
    {
     "name": "stdout",
     "output_type": "stream",
     "text": [
      "0\n"
     ]
    }
   ],
   "source": [
    "print(today.weekday())"
   ]
  },
  {
   "cell_type": "code",
   "execution_count": 5,
   "metadata": {},
   "outputs": [
    {
     "name": "stdout",
     "output_type": "stream",
     "text": [
      "2022-02-28 15:56:59.069603\n"
     ]
    }
   ],
   "source": [
    "now = datetime.now()\n",
    "print(now)"
   ]
  },
  {
   "cell_type": "code",
   "execution_count": 6,
   "metadata": {},
   "outputs": [
    {
     "name": "stdout",
     "output_type": "stream",
     "text": [
      "year: 2022\n",
      "month: 02\n",
      "day: 28\n",
      "time: 15:56:59\n",
      "date and time: 28/02/2022, 15:56:59\n"
     ]
    }
   ],
   "source": [
    "year = now.strftime(\"%Y\")\n",
    "print(\"year:\", year)\n",
    "\n",
    "month = now.strftime(\"%m\")\n",
    "print(\"month:\", month)\n",
    "\n",
    "day = now.strftime(\"%d\")\n",
    "print(\"day:\", day)\n",
    "\n",
    "time = now.strftime(\"%H:%M:%S\")\n",
    "print(\"time:\", time)\n",
    "\n",
    "date_time = now.strftime(\"%d/%m/%Y, %H:%M:%S\")\n",
    "print(\"date and time:\",date_time)\t"
   ]
  },
  {
   "cell_type": "code",
   "execution_count": 9,
   "metadata": {},
   "outputs": [
    {
     "data": {
      "text/plain": [
       "'Mon'"
      ]
     },
     "execution_count": 9,
     "metadata": {},
     "output_type": "execute_result"
    }
   ],
   "source": [
    "now.strftime(\"%a\")"
   ]
  },
  {
   "cell_type": "markdown",
   "metadata": {},
   "source": [
    "## Format Code List\n",
    "The table below shows all the codes that you can pass to the strftime() method.\n",
    "\n",
    "https://www.programiz.com/python-programming/datetime/strftime\n",
    "\n",
    "- `%a`\tAbbreviated weekday name.\tSun, Mon, ...\n",
    "- `%A`\tFull weekday name.\tSunday, Monday, ...\n",
    "- `%w`\tWeekday as a decimal number.\t0, 1, ..., 6\n",
    "- `%d`\tDay of the month as a zero-padded decimal.\t01, 02, ..., 31\n",
    "- `%-d`\tDay of the month as a decimal number.\t1, 2, ..., 30\n",
    "- `%b`\tAbbreviated month name.\tJan, Feb, ..., Dec\n",
    "- `%B`\tFull month name.\tJanuary, February, ...\n",
    "- `%m`\tMonth as a zero-padded decimal number.\t01, 02, ..., 12\n",
    "- `%-m`\tMonth as a decimal number.\t1, 2, ..., 12\n",
    "- `%y`\tYear without century as a zero-padded decimal number.\t00, 01, ..., 99\n",
    "- `%-y`\tYear without century as a decimal number.\t0, 1, ..., 99\n",
    "- `%Y`\tYear with century as a decimal number.\t2013, 2019 etc.\n",
    "- `%H`\tHour (24-hour clock) as a zero-padded decimal number.\t00, 01, ..., 23\n",
    "- `%-H`\tHour (24-hour clock) as a decimal number.\t0, 1, ..., 23\n",
    "- `%I`\tHour (12-hour clock) as a zero-padded decimal number.\t01, 02, ..., 12\n",
    "- `%-I`\tHour (12-hour clock) as a decimal number.\t1, 2, ... 12\n",
    "- `%p`\tLocale’s AM or PM.\tAM, PM\n",
    "- `%M`\tMinute as a zero-padded decimal number.\t00, 01, ..., 59\n",
    "- `%-M`\tMinute as a decimal number.\t0, 1, ..., 59\n",
    "- `%S`\tSecond as a zero-padded decimal number.\t00, 01, ..., 59\n",
    "- `%-S`\tSecond as a decimal number.\t0, 1, ..., 59\n",
    "- `%f`\tMicrosecond as a decimal number, zero-padded on the left.\t000000 - 999999\n",
    "- `%z`\tUTC offset in the form +HHMM or -HHMM.\t \n",
    "- `%Z`\tTime zone name.\t \n",
    "- `%j`\tDay of the year as a zero-padded decimal number.\t001, 002, ..., 366\n",
    "- `%-j`\tDay of the year as a decimal number.\t1, 2, ..., 366\n",
    "- `%U`\tWeek number of the year (Sunday as the first day of the week). \n",
    "- `%W`\tWeek number of the year (Monday as the first day of the week).\n",
    "- `%c`\tLocale’s appropriate date and time representation.\tMon Sep 30 07:06:05 2013\n",
    "- `%x`\tLocale’s appropriate date representation.\t09/30/13\n",
    "- `%X`\tLocale’s appropriate time representation.\t07:06:05\n",
    "- `%%`\tA literal '%' character.\t%"
   ]
  },
  {
   "cell_type": "code",
   "execution_count": 10,
   "metadata": {},
   "outputs": [],
   "source": [
    "from datetime import timedelta"
   ]
  },
  {
   "cell_type": "code",
   "execution_count": 12,
   "metadata": {},
   "outputs": [
    {
     "data": {
      "text/plain": [
       "datetime.timedelta(days=282, seconds=57600)"
      ]
     },
     "execution_count": 12,
     "metadata": {},
     "output_type": "execute_result"
    }
   ],
   "source": [
    "timedelta(hours=6784)"
   ]
  },
  {
   "cell_type": "code",
   "execution_count": 20,
   "metadata": {},
   "outputs": [
    {
     "data": {
      "text/plain": [
       "'Mon 28 Feb 2022, 15:56'"
      ]
     },
     "execution_count": 20,
     "metadata": {},
     "output_type": "execute_result"
    }
   ],
   "source": [
    "now.strftime(\"%a %d %b %Y, %H:%M\")"
   ]
  },
  {
   "cell_type": "code",
   "execution_count": 21,
   "metadata": {},
   "outputs": [
    {
     "data": {
      "text/plain": [
       "'Thu 08 Dec 2022, 07:56'"
      ]
     },
     "execution_count": 21,
     "metadata": {},
     "output_type": "execute_result"
    }
   ],
   "source": [
    "(now + timedelta(hours=6784)).strftime(\"%a %d %b %Y, %H:%M\")"
   ]
  },
  {
   "cell_type": "code",
   "execution_count": 22,
   "metadata": {},
   "outputs": [
    {
     "data": {
      "text/plain": [
       "'Tue 25 Sep 2040, 15:56'"
      ]
     },
     "execution_count": 22,
     "metadata": {},
     "output_type": "execute_result"
    }
   ],
   "source": [
    "(now + timedelta(days=6784)).strftime(\"%a %d %b %Y, %H:%M\")"
   ]
  },
  {
   "cell_type": "code",
   "execution_count": 23,
   "metadata": {},
   "outputs": [
    {
     "data": {
      "text/plain": [
       "'Sun 03 Aug 2003, 15:56'"
      ]
     },
     "execution_count": 23,
     "metadata": {},
     "output_type": "execute_result"
    }
   ],
   "source": [
    "(now - timedelta(days=6784)).strftime(\"%a %d %b %Y, %H:%M\")"
   ]
  },
  {
   "cell_type": "code",
   "execution_count": 24,
   "metadata": {},
   "outputs": [
    {
     "data": {
      "text/plain": [
       "'Wed 09 Feb 2022, 11:56'"
      ]
     },
     "execution_count": 24,
     "metadata": {},
     "output_type": "execute_result"
    }
   ],
   "source": [
    "(now - timedelta(weeks=2, days=5, hours=4)).strftime(\"%a %d %b %Y, %H:%M\")"
   ]
  },
  {
   "cell_type": "code",
   "execution_count": 25,
   "metadata": {},
   "outputs": [],
   "source": [
    "random_date = now - timedelta(weeks=2, days=5, hours=4)"
   ]
  },
  {
   "cell_type": "code",
   "execution_count": 36,
   "metadata": {},
   "outputs": [
    {
     "data": {
      "text/plain": [
       "datetime.timedelta(days=19, seconds=14400)"
      ]
     },
     "execution_count": 36,
     "metadata": {},
     "output_type": "execute_result"
    }
   ],
   "source": [
    "(now - random_date)"
   ]
  }
 ],
 "metadata": {
  "interpreter": {
   "hash": "220aead3132f0891d2d01f0ad3f05436e31d9e402ae7ff7c9805c7d2dd3b8248"
  },
  "kernelspec": {
   "display_name": "Python 3.9.7 ('base')",
   "language": "python",
   "name": "python3"
  },
  "language_info": {
   "codemirror_mode": {
    "name": "ipython",
    "version": 3
   },
   "file_extension": ".py",
   "mimetype": "text/x-python",
   "name": "python",
   "nbconvert_exporter": "python",
   "pygments_lexer": "ipython3",
   "version": "3.9.7"
  },
  "orig_nbformat": 4
 },
 "nbformat": 4,
 "nbformat_minor": 2
}
