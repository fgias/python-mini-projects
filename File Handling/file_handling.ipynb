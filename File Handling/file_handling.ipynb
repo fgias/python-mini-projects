{
 "cells": [
  {
   "cell_type": "markdown",
   "metadata": {},
   "source": [
    "# File handling and copy methods"
   ]
  },
  {
   "cell_type": "markdown",
   "metadata": {},
   "source": [
    "## Writing"
   ]
  },
  {
   "cell_type": "code",
   "execution_count": 1,
   "metadata": {},
   "outputs": [],
   "source": [
    "f = open(\"example.txt\", \"w+\")\n",
    "for i in range(10):\n",
    "    f.write(\"The line is %d\\r\\n\" % (i+1))\n",
    "\n",
    "f.close()"
   ]
  },
  {
   "cell_type": "markdown",
   "metadata": {},
   "source": [
    "## Appending"
   ]
  },
  {
   "cell_type": "code",
   "execution_count": 2,
   "metadata": {},
   "outputs": [],
   "source": [
    "f = open(\"example.txt\", \"a+\")\n",
    "for i in range(5):\n",
    "    f.write(\"Append line: %d\\r\\n\" % (i+1))\n",
    "\n",
    "f.close()"
   ]
  },
  {
   "cell_type": "markdown",
   "metadata": {},
   "source": [
    "## Reading"
   ]
  },
  {
   "cell_type": "code",
   "execution_count": 3,
   "metadata": {},
   "outputs": [],
   "source": [
    "f = open(\"example.txt\", \"r\")\n",
    "contents = f.read()\n"
   ]
  },
  {
   "cell_type": "code",
   "execution_count": 4,
   "metadata": {},
   "outputs": [
    {
     "data": {
      "text/plain": [
       "'The line is 1\\nThe line is 2\\nThe line is 3\\nThe line is 4\\nThe line is 5\\nThe line is 6\\nThe line is 7\\nThe line is 8\\nThe line is 9\\nThe line is 10\\nAppend line: 1\\nAppend line: 2\\nAppend line: 3\\nAppend line: 4\\nAppend line: 5\\n'"
      ]
     },
     "execution_count": 4,
     "metadata": {},
     "output_type": "execute_result"
    }
   ],
   "source": [
    "contents"
   ]
  },
  {
   "cell_type": "markdown",
   "metadata": {},
   "source": [
    "## Reading line by line"
   ]
  },
  {
   "cell_type": "code",
   "execution_count": 5,
   "metadata": {},
   "outputs": [],
   "source": [
    "f = open(\"example.txt\", \"r\")\n",
    "contents = f.readlines()\n"
   ]
  },
  {
   "cell_type": "code",
   "execution_count": 6,
   "metadata": {},
   "outputs": [
    {
     "data": {
      "text/plain": [
       "['The line is 1\\n',\n",
       " 'The line is 2\\n',\n",
       " 'The line is 3\\n',\n",
       " 'The line is 4\\n',\n",
       " 'The line is 5\\n',\n",
       " 'The line is 6\\n',\n",
       " 'The line is 7\\n',\n",
       " 'The line is 8\\n',\n",
       " 'The line is 9\\n',\n",
       " 'The line is 10\\n',\n",
       " 'Append line: 1\\n',\n",
       " 'Append line: 2\\n',\n",
       " 'Append line: 3\\n',\n",
       " 'Append line: 4\\n',\n",
       " 'Append line: 5\\n']"
      ]
     },
     "execution_count": 6,
     "metadata": {},
     "output_type": "execute_result"
    }
   ],
   "source": [
    "contents"
   ]
  },
  {
   "cell_type": "markdown",
   "metadata": {},
   "source": [
    "## Verify that file or directory exists"
   ]
  },
  {
   "cell_type": "code",
   "execution_count": 7,
   "metadata": {},
   "outputs": [],
   "source": [
    "from os import path"
   ]
  },
  {
   "cell_type": "code",
   "execution_count": 8,
   "metadata": {},
   "outputs": [
    {
     "data": {
      "text/plain": [
       "True"
      ]
     },
     "execution_count": 8,
     "metadata": {},
     "output_type": "execute_result"
    }
   ],
   "source": [
    "path.exists('example.txt')"
   ]
  },
  {
   "cell_type": "markdown",
   "metadata": {},
   "source": [
    "## Check whether input is file or directory"
   ]
  },
  {
   "cell_type": "code",
   "execution_count": 9,
   "metadata": {},
   "outputs": [
    {
     "data": {
      "text/plain": [
       "True"
      ]
     },
     "execution_count": 9,
     "metadata": {},
     "output_type": "execute_result"
    }
   ],
   "source": [
    "path.isfile('example.txt')"
   ]
  },
  {
   "cell_type": "code",
   "execution_count": 12,
   "metadata": {},
   "outputs": [
    {
     "data": {
      "text/plain": [
       "False"
      ]
     },
     "execution_count": 12,
     "metadata": {},
     "output_type": "execute_result"
    }
   ],
   "source": [
    "path.isdir('example.txt')"
   ]
  },
  {
   "cell_type": "markdown",
   "metadata": {},
   "source": [
    "## Copying a file using the Operating System Shell Utilities"
   ]
  },
  {
   "cell_type": "code",
   "execution_count": 30,
   "metadata": {},
   "outputs": [
    {
     "name": "stdout",
     "output_type": "stream",
     "text": [
      "path:  /Users/fgias/My Drive/00 Main Folder/Programming/Python/Python Mini-Projects\n",
      "file:  example.txt\n"
     ]
    }
   ],
   "source": [
    "import os\n",
    "import shutil\n",
    "\n",
    "if path.exists('example.txt'):\n",
    "    src = path.realpath('example.txt')\n",
    "    head, tail = path.split(src)\n",
    "    print(\"path: \", head)\n",
    "    print(\"file: \", tail)\n",
    "    dst = head + \"/example_copy.bak\"\n",
    "    shutil.copy(src, dst)\n"
   ]
  },
  {
   "cell_type": "code",
   "execution_count": 21,
   "metadata": {},
   "outputs": [
    {
     "data": {
      "text/plain": [
       "('/Users/fgias/My Drive/00 Main Folder/Programming/Python/Python Mini-Projects',\n",
       " 'example.txt')"
      ]
     },
     "execution_count": 21,
     "metadata": {},
     "output_type": "execute_result"
    }
   ],
   "source": [
    "path.split(src)"
   ]
  }
 ],
 "metadata": {
  "interpreter": {
   "hash": "220aead3132f0891d2d01f0ad3f05436e31d9e402ae7ff7c9805c7d2dd3b8248"
  },
  "kernelspec": {
   "display_name": "Python 3.9.7 ('base')",
   "language": "python",
   "name": "python3"
  },
  "language_info": {
   "codemirror_mode": {
    "name": "ipython",
    "version": 3
   },
   "file_extension": ".py",
   "mimetype": "text/x-python",
   "name": "python",
   "nbconvert_exporter": "python",
   "pygments_lexer": "ipython3",
   "version": "3.9.7"
  },
  "orig_nbformat": 4
 },
 "nbformat": 4,
 "nbformat_minor": 2
}
