{
 "cells": [
  {
   "cell_type": "markdown",
   "metadata": {},
   "source": [
    "# Difference between copying by value and copying by reference"
   ]
  },
  {
   "cell_type": "code",
   "execution_count": null,
   "metadata": {},
   "outputs": [],
   "source": [
    "listA1 = [0]\n",
    "listA2 = [0]\n",
    "listB1 = listA1 # pass/copy by reference\n",
    "listB2 = listA2.copy() # pass/copy by value\n",
    "listB1.append(1)\n",
    "listB2.append(1)\n",
    "print(listA1)\n",
    "print(listA2)\n",
    "print(listB1)\n",
    "print(listB2)"
   ]
  }
 ],
 "metadata": {
  "interpreter": {
   "hash": "9688926e0120c82bc45141654f06390cf5b07a9996c109707e80805420de038d"
  },
  "kernelspec": {
   "display_name": "Python 3.8.5 64-bit ('base': conda)",
   "language": "python",
   "name": "python3"
  },
  "language_info": {
   "name": "python",
   "version": "3.8.5"
  },
  "orig_nbformat": 4
 },
 "nbformat": 4,
 "nbformat_minor": 2
}
